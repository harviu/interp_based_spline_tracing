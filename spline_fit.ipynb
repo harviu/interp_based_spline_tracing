{
 "cells": [
  {
   "cell_type": "code",
   "execution_count": null,
   "metadata": {},
   "outputs": [],
   "source": [
    "import os\n",
    "import numpy as np\n",
    "from Spline import AKBSpline\n",
    "from utils import draw_spline, save_tcku, dict_to_tcku, add_time_dim, draw_tra\n",
    "from matplotlib import pyplot as plt \n",
    "from scipy.interpolate import splprep, splev\n"
   ]
  },
  {
   "cell_type": "code",
   "execution_count": null,
   "metadata": {},
   "outputs": [],
   "source": [
    "# tra = np.load('data/tra.npy')\n",
    "# tra = tra[:,:,:3]\n",
    "tra = np.load('data/tra_hcart.npy')\n",
    "length = np.load('data/tra_len.npy')\n",
    "\n",
    "print(tra.shape)\n",
    "print(tra.max(),tra.min())\n",
    "plt.hist(length)\n",
    "plt.show()\n"
   ]
  },
  {
   "cell_type": "code",
   "execution_count": null,
   "metadata": {},
   "outputs": [],
   "source": [
    "k = 3\n",
    "n_knots = 100\n",
    "def fit_spline(trace, length):\n",
    "    trace = trace[:length,:]\n",
    "    \n",
    "    # # t_input = [0.0] * k + np.linspace(0,1,n_knots - 2*k).tolist() + [1.0] * k\n",
    "    # t_input = np.linspace(0,1,n_knots).tolist()\n",
    "    # tcku, fp, ier, msg = splprep(trace.T, t=t_input, k = k, task=-1, full_output=True, quiet=True)\n",
    "\n",
    "    spline = AKBSpline(trace, n_knots, k, para_type='uni')\n",
    "    tcku = spline.tcku\n",
    "    fp = spline.fp\n",
    "\n",
    "    tck, u = tcku\n",
    "    return fp/length, tck, u\n",
    "fit_spline(tra[0],length[0])"
   ]
  },
  {
   "cell_type": "code",
   "execution_count": null,
   "metadata": {},
   "outputs": [],
   "source": [
    "spline = list(map(fit_spline,tra,length))\n"
   ]
  },
  {
   "cell_type": "code",
   "execution_count": null,
   "metadata": {},
   "outputs": [],
   "source": [
    "# draw fit results\n",
    "\n",
    "fig = plt.figure(figsize=(24, 10), dpi=80)\n",
    "ax = fig.add_subplot(1,2,1,projection='3d')\n",
    "ax2 = fig.add_subplot(1,2,2,projection='3d')\n",
    "ax.title.set_text('Pred')\n",
    "ax2.title.set_text('GT')\n",
    "\n",
    "for i in range(10,13):\n",
    "    l = 2001\n",
    "\n",
    "    phi = np.linspace(0, 2*np.pi, l)\n",
    "    x = np.sin(phi)\n",
    "    y = np.cos(phi)\n",
    "    rgb_cycle = np.vstack((            # Three sinusoids\n",
    "        .5*(1.+np.cos(phi          )), # scaled to [0,1]\n",
    "        .5*(1.+np.cos(phi+2*np.pi/3)), # 120° phase shifted.\n",
    "        .5*(1.+np.cos(phi-2*np.pi/3)))).T # Shape = (60,3)\n",
    "\n",
    "    err, tck, u = spline[i]\n",
    "    print(err)\n",
    "    print(len(tck[0]))\n",
    "    draw_spline(tck,u,l,False,ax)\n",
    "\n",
    "    trace = tra[i,:length[i],:]\n",
    "    draw_tra(trace, l, False, ax2)\n",
    "    \n"
   ]
  },
  {
   "cell_type": "code",
   "execution_count": null,
   "metadata": {},
   "outputs": [],
   "source": [
    "# error\n",
    "\n",
    "error, tck, u = zip(*spline)\n",
    "error = np.array(error)\n",
    "print(np.mean(error))\n",
    "plt.hist(error)"
   ]
  },
  {
   "cell_type": "code",
   "execution_count": null,
   "metadata": {},
   "outputs": [],
   "source": [
    "\n",
    "all_e = 0\n",
    "count = 0\n",
    "ave_e = np.zeros((length.max()))\n",
    "mask = np.zeros((length.max()),dtype=int)\n",
    "for i,uu in enumerate(u):\n",
    "    new_points = np.array(splev(uu, tck[i]))\n",
    "    trace = tra[i,:length[i],:]\n",
    "    e = ((new_points.T - trace) ** 2).mean(1)\n",
    "    all_e += ((new_points.T - trace) ** 2).sum()\n",
    "    count += len(trace.flatten())\n",
    "    ave_e[:len(e)] += e\n",
    "    mask[:len(e)] += 1\n",
    "ave_e /= mask\n",
    "e = all_e / count\n",
    "\n",
    "plt.plot(np.arange(len(ave_e)),ave_e)\n",
    "plt.show()\n",
    "print('average error:', e)"
   ]
  },
  {
   "cell_type": "code",
   "execution_count": null,
   "metadata": {},
   "outputs": [],
   "source": [
    "save_tcku('data/spl_3d_uni.npy',tck,u)"
   ]
  },
  {
   "cell_type": "code",
   "execution_count": null,
   "metadata": {},
   "outputs": [],
   "source": [
    "save_dict = np.load('data/spl_3d_uni.npy', allow_pickle=True).item()\n",
    "tck, u = dict_to_tcku(save_dict)\n",
    "save_dict_4d = np.load('data/spl_4d.npy', allow_pickle = True).item()\n",
    "tck_4d, u_4d = dict_to_tcku(save_dict_4d)"
   ]
  },
  {
   "cell_type": "code",
   "execution_count": null,
   "metadata": {},
   "outputs": [],
   "source": [
    "import pickle\n",
    "pathlines_3d = []\n",
    "pathlines_4d = []\n",
    "for i,uu in enumerate(u):\n",
    "    new_points = np.array(splev(uu, tck[i]))\n",
    "    new_points_4d = np.array(splev(u_4d[i],tck_4d[i]))\n",
    "    trace = tra[i,:length[i],:]\n",
    "    e = ((new_points.T - trace[:,:3]) ** 2).mean(1)\n",
    "    e_4d = ((new_points_4d.T - trace) ** 2).mean(1)\n",
    "    new_points = np.concatenate((new_points.T,e[:,None]),axis = -1)\n",
    "    new_points_4d = new_points_4d.T\n",
    "    new_points_4d[:,3] = e_4d\n",
    "\n",
    "    pathlines_4d.append(new_points_4d)\n",
    "    pathlines_3d.append(new_points)\n",
    "\n",
    "\n",
    "with open('data/path_3d.pkl','wb') as f:\n",
    "    pickle.dump(pathlines_3d, f)\n",
    "    \n",
    "with open('data/path_4d.pkl','wb') as f:\n",
    "    pickle.dump(pathlines_4d, f)\n"
   ]
  },
  {
   "cell_type": "code",
   "execution_count": null,
   "metadata": {},
   "outputs": [],
   "source": [
    "\n",
    "\n",
    "all_e = 0\n",
    "all_e_4d = 0\n",
    "count = 0\n",
    "count_4d = 0\n",
    "ave_e = np.zeros((length.max()))\n",
    "ave_e_4d = np.zeros((length.max()))\n",
    "mask = np.zeros((length.max()),dtype=int)\n",
    "for i,uu in enumerate(u):\n",
    "    new_points = np.array(splev(uu, tck[i]))\n",
    "    new_points_4d = np.array(splev(u_4d[i],tck_4d[i]))\n",
    "    trace = tra[i,:length[i],:]\n",
    "    e = ((new_points.T - trace[:,:3]) ** 2).mean(1)\n",
    "    e_4d = ((new_points_4d.T - trace) ** 2).mean(1)\n",
    "    all_e += ((new_points.T - trace[:,:3]) ** 2).sum()\n",
    "    all_e_4d += ((new_points_4d.T - trace) ** 2).sum()\n",
    "    count += len(trace[:,:3].flatten())\n",
    "    count_4d += len(trace.flatten())\n",
    "    ave_e[:len(e)] += e\n",
    "    ave_e_4d[:len(e_4d)] += e_4d\n",
    "    mask[:len(e)] += 1\n",
    "ave_e /= mask\n",
    "ave_e_4d /= mask\n",
    "e = all_e / count\n",
    "e_4d = all_e_4d /count_4d\n",
    "\n",
    "print('average error:', e)\n",
    "print('average error 4d:', e_4d)\n"
   ]
  },
  {
   "cell_type": "code",
   "execution_count": null,
   "metadata": {},
   "outputs": [],
   "source": [
    "np.save('data/error/100_time_ave_4d', ave_e_4d)"
   ]
  },
  {
   "cell_type": "code",
   "execution_count": null,
   "metadata": {},
   "outputs": [],
   "source": [
    "ave_e = np.load('data/error/%d_time_ave.npy' % 100)\n",
    "ave_e_4d = np.load('data/error/100_time_ave_4d.npy')\n",
    "ave_e = np.sqrt(ave_e)\n",
    "ave_e_4d = np.sqrt(ave_e_4d)\n",
    "\n",
    "f, ax1 = plt.subplots(1, 1, sharey=True)\n",
    "\n",
    "ax1.plot(np.arange(len(ave_e)),ave_e, label='3D curve')\n",
    "ax1.plot(np.arange(len(ave_e_4d)),ave_e_4d, label='4D curve')\n",
    "plt.legend()\n",
    "f.set_size_inches(9, 5)\n",
    "plt.grid()\n",
    "plt.show()\n",
    "\n",
    "f.savefig('fig/3D_4D_compare.png', dpi=100)"
   ]
  },
  {
   "cell_type": "code",
   "execution_count": null,
   "metadata": {},
   "outputs": [],
   "source": [
    "import time\n",
    "for n_knots in [10,25,50,100,150]:\n",
    "    print(n_knots)\n",
    "    k = 3\n",
    "    def fit_spline(trace, length):\n",
    "        trace = trace[:length,:]\n",
    "        \n",
    "        # # t_input = [0.0] * k + np.linspace(0,1,n_knots - 2*k).tolist() + [1.0] * k\n",
    "        # t_input = np.linspace(0,1,n_knots).tolist()\n",
    "        # tcku, fp, ier, msg = splprep(trace.T, t=t_input, k = k, task=-1, full_output=True, quiet=True)\n",
    "\n",
    "        spline = AKBSpline(trace, n_knots, k, para_type='uni')\n",
    "        tcku = spline.tcku\n",
    "        fp = spline.fp\n",
    "\n",
    "        tck, u = tcku\n",
    "        return fp/length, tck, u\n",
    "    t1 = time.time()\n",
    "    spline = list(map(fit_spline,tra[:,:,:3],length))\n",
    "    print('fitting time:', time.time() - t1)\n",
    "    error, tck, u = zip(*spline)\n",
    "    save_tcku('data/spl_3d_cp_%d.npy' % n_knots,tck,u)\n",
    "\n",
    "    all_e = 0\n",
    "    count = 0\n",
    "    ave_e = np.zeros((length.max()))\n",
    "    mask = np.zeros((length.max()),dtype=int)\n",
    "    for i,uu in enumerate(u):\n",
    "        new_points = np.array(splev(uu, tck[i]))\n",
    "        trace = tra[i,:length[i],:3]\n",
    "        e = ((new_points.T - trace) ** 2).mean(1)\n",
    "        all_e += ((new_points.T - trace) ** 2).sum()\n",
    "        count += len(trace.flatten())\n",
    "        ave_e[:len(e)] += e\n",
    "        mask[:len(e)] += 1\n",
    "    ave_e /= mask\n",
    "    e = all_e / count\n",
    "\n",
    "    print('average error:', e)\n",
    "    np.save('data/error/%d_time_ave.npy' % n_knots, ave_e)\n",
    "    "
   ]
  },
  {
   "cell_type": "code",
   "execution_count": null,
   "metadata": {},
   "outputs": [],
   "source": [
    "\n",
    "f, ax = plt.subplots(1, 1, sharey=True)\n",
    "\n",
    "for i,n in enumerate([10,25,50,100]):\n",
    "    error = np.load('data/error/%d_time_ave.npy' % n)\n",
    "    error = np.sqrt(error)\n",
    "    ax.plot(np.arange(len(error)),error, label=n)\n",
    "plt.legend()\n",
    "f.set_size_inches(9, 5)\n",
    "plt.grid()\n",
    "plt.show()\n",
    "f.savefig('fig/different_n.png', dpi=100)\n",
    "    "
   ]
  }
 ],
 "metadata": {
  "interpreter": {
   "hash": "483a3d96c5e60a0103544e7c7e864f99fd3b368cf4326f680b7871781125d192"
  },
  "kernelspec": {
   "display_name": "Python 3.7.6 64-bit",
   "language": "python",
   "name": "python3"
  },
  "language_info": {
   "codemirror_mode": {
    "name": "ipython",
    "version": 3
   },
   "file_extension": ".py",
   "mimetype": "text/x-python",
   "name": "python",
   "nbconvert_exporter": "python",
   "pygments_lexer": "ipython3",
   "version": "3.7.5"
  },
  "orig_nbformat": 4
 },
 "nbformat": 4,
 "nbformat_minor": 2
}
